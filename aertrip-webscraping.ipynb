{
 "cells": [
  {
   "cell_type": "markdown",
   "metadata": {},
   "source": [
    "Scraping dynamic website using Selenium"
   ]
  },
  {
   "cell_type": "code",
   "execution_count": null,
   "metadata": {},
   "outputs": [],
   "source": [
    "%pip install selenium --upgrade --quiet"
   ]
  },
  {
   "cell_type": "code",
   "execution_count": 2,
   "metadata": {},
   "outputs": [],
   "source": [
    "from selenium import webdriver\n",
    "from selenium.webdriver.chrome.service import Service\n",
    "from webdriver_manager.chrome import ChromeDriverManager\n",
    "from selenium.common.exceptions import NoSuchElementException\n",
    "from selenium.common.exceptions import StaleElementReferenceException\n",
    "from selenium.webdriver.support.ui import WebDriverWait\n",
    "from selenium.webdriver.common.by import By\n",
    "from selenium.webdriver.support import expected_conditions as EC\n",
    "from selenium.common.exceptions import TimeoutException\n",
    "from datetime import date\n",
    "from datetime import timedelta\n",
    "import pandas as pd\n",
    "import time\n",
    "import os"
   ]
  },
  {
   "cell_type": "markdown",
   "metadata": {},
   "source": [
    "Defining all the functions"
   ]
  },
  {
   "cell_type": "code",
   "execution_count": 3,
   "metadata": {},
   "outputs": [
    {
     "name": "stderr",
     "output_type": "stream",
     "text": [
      "C:\\Users\\91907\\AppData\\Local\\Temp\\ipykernel_15204\\4019514312.py:1: DeprecationWarning: executable_path has been deprecated, please pass in a Service object\n",
      "  driver = webdriver.Chrome(\"chromedriver.exe\")\n"
     ]
    }
   ],
   "source": [
    "driver = webdriver.Chrome(\"chromedriver.exe\")\n",
    "\n",
    "def get_url(date, place):\n",
    "    url = \"https://aertrip.com/flights?return={}&adult=1&child=0&infant=0&trip_type=return&totalLegs=2&origin=BOM&depart={}&destination={}&cabinclass=Economy&nonStopFlag=true&filters%5B0%5D%5Bdep_dt%5D%5B%5D=&filters%5B0%5D%5Bdep_dt%5D%5B%5D=900&filters%5B1%5D%5Bdep_dt%5D%5B%5D=900&filters%5B1%5D%5Bdep_dt%5D%5B%5D=#/searched\".format(date, date, place)\n",
    "    return url\n",
    "\n",
    "def scroll_bottom():\n",
    "    SCROLL_PAUSE_TIME = 1\n",
    "    # Get scroll height\n",
    "    last_height = driver.execute_script(\"return document.body.scrollHeight\")\n",
    "    while True:\n",
    "        # Scroll down to bottom\n",
    "        driver.execute_script(\"window.scrollTo(0, document.body.scrollHeight);\")\n",
    "        # Wait to load page\n",
    "        time.sleep(SCROLL_PAUSE_TIME)\n",
    "        # Calculate new scroll height and compare with last scroll height\n",
    "        new_height = driver.execute_script(\"return document.body.scrollHeight\")\n",
    "        if new_height == last_height:\n",
    "            break\n",
    "        last_height = new_height\n",
    "        \n",
    "def click_load_all_button():\n",
    "    buttons_to_loadall = driver.find_elements(By.CLASS_NAME, 'css-total-fl-text')\n",
    "    for button in buttons_to_loadall:\n",
    "        try:\n",
    "            button.click()\n",
    "        except:\n",
    "            return\n",
    "        \n",
    "def toggle_places():\n",
    "    toggle_button = driver.find_element(By.CLASS_NAME, 'interchange')\n",
    "    while True:\n",
    "        try:\n",
    "            toggle_button.click()\n",
    "            break\n",
    "        except:\n",
    "            pass\n",
    "\n",
    "def click_search_button():\n",
    "    button = driver.find_element(By.CLASS_NAME, 'buttonDiv')\n",
    "    button.click()\n",
    "    time.sleep(10)\n",
    "    \n",
    "def get_flights():\n",
    "    flights = driver.find_elements(By.CLASS_NAME, 'departureDetailsBox')\n",
    "    print(len(flights))\n",
    "    for i in range(len(flights)):\n",
    "        flights[i] = flights[i].text.split('\\n')\n",
    "    return flights\n",
    "\n",
    "def get_df(flights):\n",
    "    df = pd.DataFrame(columns = ['Origin', 'Destination', 'Company', 'Departure Time', 'Arrival Time', 'Duration Time', 'Flight Price'])\n",
    "    \n",
    "    for f in flights:\n",
    "        origin = f[4][:3]\n",
    "        destination = f[4][-3:]\n",
    "        company = f[1].split('-')[0]\n",
    "        departure_time = f[0]\n",
    "        arrival_time = f[2]\n",
    "        if arrival_time[-2:] == '+1':\n",
    "            arrival_time = arrival_time.split()[0]\n",
    "        duration_time = f[3]\n",
    "        flight_price = f[-1]\n",
    "\n",
    "        df = df.append(\n",
    "            {\n",
    "                'Origin': origin,\n",
    "                'Destination' : destination,\n",
    "                'Company' : company,\n",
    "                'Departure Time': departure_time,\n",
    "                'Arrival Time': arrival_time,\n",
    "                'Duration Time': duration_time,\n",
    "                'Flight Price': flight_price\n",
    "            }, ignore_index = True)\n",
    "    return df"
   ]
  },
  {
   "cell_type": "markdown",
   "metadata": {},
   "source": [
    "Airport Codes"
   ]
  },
  {
   "cell_type": "code",
   "execution_count": 4,
   "metadata": {},
   "outputs": [
    {
     "data": {
      "text/plain": [
       "['DEL', 'BLR', 'HYD', 'CCU', 'MAA']"
      ]
     },
     "execution_count": 4,
     "metadata": {},
     "output_type": "execute_result"
    }
   ],
   "source": [
    "airports = {\n",
    "    'BOM': 'Mumbai, Chhatrapati Shivaji International Airport', \n",
    "    'DEL': 'Delhi, Indira Gandhi International Airport',\n",
    "    'BLR': 'Bengaluru, Kempegowda International Airport',\n",
    "    'HYD': 'Hyderabad, Rajiv Gandhi International Airport',\n",
    "    'CCU': 'Kolkata, Netaji Subhas Chandra Bose Airport',\n",
    "    'MAA': 'Chennai, Chennai Airport'\n",
    "}\n",
    "\n",
    "airport_codes = list(airports.keys())\n",
    "bom = airport_codes.pop(0)\n",
    "airport_codes"
   ]
  },
  {
   "cell_type": "markdown",
   "metadata": {},
   "source": [
    "Getting the list of dates for which we need the data"
   ]
  },
  {
   "cell_type": "code",
   "execution_count": 5,
   "metadata": {},
   "outputs": [
    {
     "name": "stdout",
     "output_type": "stream",
     "text": [
      "['19-08-2022', '20-08-2022', '21-08-2022', '22-08-2022', '23-08-2022', '24-08-2022', '25-08-2022']\n"
     ]
    }
   ],
   "source": [
    "list_of_dates = []\n",
    "today = date.today()\n",
    "start_date = today + timedelta(days=20)\n",
    "list_of_dates.append(start_date.strftime('%d-%m-%Y'))\n",
    "for i in range(6):\n",
    "    start_date = start_date + timedelta(days=1)\n",
    "    list_of_dates.append(start_date.strftime('%d-%m-%Y'))\n",
    "print(list_of_dates)"
   ]
  },
  {
   "cell_type": "markdown",
   "metadata": {},
   "source": [
    "Creating directories for storing data"
   ]
  },
  {
   "cell_type": "code",
   "execution_count": 7,
   "metadata": {},
   "outputs": [],
   "source": [
    "import os\n",
    "\n",
    "original = os.getcwd()\n",
    "\n",
    "for place in airport_codes:\n",
    "    os.mkdir(place)\n",
    "    os.chdir(original)"
   ]
  },
  {
   "cell_type": "markdown",
   "metadata": {},
   "source": [
    "Main code for scraping"
   ]
  },
  {
   "cell_type": "code",
   "execution_count": null,
   "metadata": {},
   "outputs": [],
   "source": [
    "for place in airport_codes:\n",
    "    for date in list_of_dates:\n",
    "        driver = webdriver.Chrome(service=Service(ChromeDriverManager().install()))\n",
    "        url = get_url(date, place)\n",
    "        print(url)\n",
    "        driver.get(url)\n",
    "        driver.maximize_window()\n",
    "        time.sleep(10)\n",
    "        while True:\n",
    "            try:\n",
    "                WebDriverWait(driver, 10).until(EC.invisibility_of_element_located((By.ID, 'flight-search-loader')))\n",
    "            except TimeoutException:\n",
    "                break\n",
    "        scroll_bottom()\n",
    "        click_load_all_button()\n",
    "        StaleElementReferenceExceptionCount = 1\n",
    "        maxAttempts = 10\n",
    "        while True:\n",
    "            try:\n",
    "                flights = get_flights()\n",
    "                time.sleep(5)\n",
    "                break\n",
    "            except StaleElementReferenceException:\n",
    "                print('StaleElementReferenceException: ', StaleElementReferenceExceptionCount)\n",
    "                if StaleElementReferenceExceptionCount == maxAttempts:\n",
    "                    raise\n",
    "                StaleElementReferenceExceptionCount += 1\n",
    "            except StaleElementReferenceException:\n",
    "                print('StaleElementReferenceException: ', StaleElementReferenceExceptionCount)\n",
    "                if StaleElementReferenceExceptionCount == maxAttempts:\n",
    "                    raise\n",
    "                StaleElementReferenceExceptionCount += 1\n",
    "\n",
    "        df = get_df(flights)\n",
    "        toggle_places()\n",
    "        click_search_button()\n",
    "        while True:\n",
    "            try:\n",
    "                WebDriverWait(driver, 10).until(EC.invisibility_of_element_located((By.ID, 'flight-search-loader')))\n",
    "            except TimeoutException:\n",
    "                break\n",
    "        scroll_bottom()\n",
    "        click_load_all_button()\n",
    "        flights = get_flights()\n",
    "        pd1 = get_df(flights)\n",
    "        # df = df.concat(pd1, ignore_index=True)\n",
    "        df['Date'] = date\n",
    "        df['Cabin Class'] = 'Economy'\n",
    "        df.to_csv(date + '.csv', index=False)"
   ]
  }
 ],
 "metadata": {
  "kernelspec": {
   "display_name": "Python 3.10.5 64-bit",
   "language": "python",
   "name": "python3"
  },
  "language_info": {
   "codemirror_mode": {
    "name": "ipython",
    "version": 3
   },
   "file_extension": ".py",
   "mimetype": "text/x-python",
   "name": "python",
   "nbconvert_exporter": "python",
   "pygments_lexer": "ipython3",
   "version": "3.10.5"
  },
  "orig_nbformat": 4,
  "vscode": {
   "interpreter": {
    "hash": "c581861496e31ea0b80ec3cadf5c5523fadeb6e875e6267588fa8999f6116329"
   }
  }
 },
 "nbformat": 4,
 "nbformat_minor": 2
}
